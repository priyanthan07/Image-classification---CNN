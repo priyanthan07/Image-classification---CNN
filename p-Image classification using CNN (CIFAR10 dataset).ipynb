{
 "cells": [
  {
   "cell_type": "code",
   "execution_count": 1,
   "id": "32a24337-4644-4f6f-b9a3-49cab8b6c72c",
   "metadata": {},
   "outputs": [],
   "source": [
    "import tensorflow as tf\n",
    "from tensorflow.keras import layers, datasets, models\n",
    "import matplotlib.pyplot as plt\n",
    "import numpy as np"
   ]
  },
  {
   "cell_type": "markdown",
   "id": "a103d58b-118c-4b19-b359-40f7a52a0952",
   "metadata": {},
   "source": [
    "### Loading data from cifar10\n",
    "______________"
   ]
  },
  {
   "cell_type": "code",
   "execution_count": 2,
   "id": "98f9c730-cd77-44c8-b379-554f07ab6f3e",
   "metadata": {},
   "outputs": [],
   "source": [
    "(x_train, y_train), (x_test, y_test) = datasets.cifar10.load_data()"
   ]
  },
  {
   "cell_type": "code",
   "execution_count": 4,
   "id": "60c1ed24-dc9c-4659-ab07-4f6cfe7b665d",
   "metadata": {},
   "outputs": [
    {
     "data": {
      "text/plain": [
       "((50000, 32, 32, 3), (50000, 1), (10000, 32, 32, 3))"
      ]
     },
     "execution_count": 4,
     "metadata": {},
     "output_type": "execute_result"
    }
   ],
   "source": [
    "x_train.shape, y_train.shape, x_test.shape"
   ]
  },
  {
   "cell_type": "code",
   "execution_count": 138,
   "id": "e0f9150f-b9c8-43c7-a179-69f159404708",
   "metadata": {},
   "outputs": [
    {
     "data": {
      "text/plain": [
       "array([[[0.23137255, 0.24313725, 0.24705882],\n",
       "        [0.16862745, 0.18039216, 0.17647059],\n",
       "        [0.19607843, 0.18823529, 0.16862745],\n",
       "        ...,\n",
       "        [0.61960784, 0.51764706, 0.42352941],\n",
       "        [0.59607843, 0.49019608, 0.4       ],\n",
       "        [0.58039216, 0.48627451, 0.40392157]],\n",
       "\n",
       "       [[0.0627451 , 0.07843137, 0.07843137],\n",
       "        [0.        , 0.        , 0.        ],\n",
       "        [0.07058824, 0.03137255, 0.        ],\n",
       "        ...,\n",
       "        [0.48235294, 0.34509804, 0.21568627],\n",
       "        [0.46666667, 0.3254902 , 0.19607843],\n",
       "        [0.47843137, 0.34117647, 0.22352941]],\n",
       "\n",
       "       [[0.09803922, 0.09411765, 0.08235294],\n",
       "        [0.0627451 , 0.02745098, 0.        ],\n",
       "        [0.19215686, 0.10588235, 0.03137255],\n",
       "        ...,\n",
       "        [0.4627451 , 0.32941176, 0.19607843],\n",
       "        [0.47058824, 0.32941176, 0.19607843],\n",
       "        [0.42745098, 0.28627451, 0.16470588]],\n",
       "\n",
       "       ...,\n",
       "\n",
       "       [[0.81568627, 0.66666667, 0.37647059],\n",
       "        [0.78823529, 0.6       , 0.13333333],\n",
       "        [0.77647059, 0.63137255, 0.10196078],\n",
       "        ...,\n",
       "        [0.62745098, 0.52156863, 0.2745098 ],\n",
       "        [0.21960784, 0.12156863, 0.02745098],\n",
       "        [0.20784314, 0.13333333, 0.07843137]],\n",
       "\n",
       "       [[0.70588235, 0.54509804, 0.37647059],\n",
       "        [0.67843137, 0.48235294, 0.16470588],\n",
       "        [0.72941176, 0.56470588, 0.11764706],\n",
       "        ...,\n",
       "        [0.72156863, 0.58039216, 0.36862745],\n",
       "        [0.38039216, 0.24313725, 0.13333333],\n",
       "        [0.3254902 , 0.20784314, 0.13333333]],\n",
       "\n",
       "       [[0.69411765, 0.56470588, 0.45490196],\n",
       "        [0.65882353, 0.50588235, 0.36862745],\n",
       "        [0.70196078, 0.55686275, 0.34117647],\n",
       "        ...,\n",
       "        [0.84705882, 0.72156863, 0.54901961],\n",
       "        [0.59215686, 0.4627451 , 0.32941176],\n",
       "        [0.48235294, 0.36078431, 0.28235294]]])"
      ]
     },
     "execution_count": 138,
     "metadata": {},
     "output_type": "execute_result"
    }
   ],
   "source": [
    "x_train[0]"
   ]
  },
  {
   "cell_type": "code",
   "execution_count": 24,
   "id": "64c714a0-af92-469d-99c3-89afe5bf9eaf",
   "metadata": {},
   "outputs": [
    {
     "data": {
      "text/plain": [
       "array([[6],\n",
       "       [9],\n",
       "       [9],\n",
       "       [4],\n",
       "       [1]], dtype=uint8)"
      ]
     },
     "execution_count": 24,
     "metadata": {},
     "output_type": "execute_result"
    }
   ],
   "source": [
    "y_train[:5]    # This is a 2 dimentional array. we ned only one dimenstional. "
   ]
  },
  {
   "cell_type": "code",
   "execution_count": 116,
   "id": "9ba26c0a-db84-406e-8ec0-71ae872e1ef5",
   "metadata": {},
   "outputs": [],
   "source": [
    "y_train = y_train.reshape(-1,)  # -1 to keep the first dimension as it is. and after comma\n",
    "                                #  we want make it to \n",
    "y_test = y_test.reshape(-1,)"
   ]
  },
  {
   "cell_type": "code",
   "execution_count": 23,
   "id": "ccd7b2d4-4840-4a78-8130-8e317205c5f0",
   "metadata": {},
   "outputs": [
    {
     "data": {
      "text/plain": [
       "<matplotlib.image.AxesImage at 0x14d44765350>"
      ]
     },
     "execution_count": 23,
     "metadata": {},
     "output_type": "execute_result"
    },
    {
     "data": {
      "image/png": "[encoded data removed]",
      "text/plain": [
       "<Figure size 1500x200 with 1 Axes>"
      ]
     },
     "metadata": {},
     "output_type": "display_data"
    }
   ],
   "source": [
    "plt.figure(figsize=(15,2))\n",
    "plt.imshow(x_train[1])"
   ]
  },
  {
   "cell_type": "code",
   "execution_count": 84,
   "id": "9a84d703-61f2-4ecd-9327-5adbbd83cb5c",
   "metadata": {},
   "outputs": [],
   "source": [
    "classes = [\"airplane\",\"automobile\",\"bird\",\"cat\",\"deer\",\"dog\",\"frog\",\"horse\",\"ship\",\"truck\"]"
   ]
  },
  {
   "cell_type": "code",
   "execution_count": 98,
   "id": "7177b219-0fc6-4c37-b879-ec300227b520",
   "metadata": {},
   "outputs": [],
   "source": [
    "def plot_sample(x,y, index):\n",
    "    plt.figure(figsize=(15,2))\n",
    "    plt.imshow(x[index])\n",
    "    plt.xlabel(classes[int(y[index])])\n",
    "    "
   ]
  },
  {
   "cell_type": "code",
   "execution_count": 101,
   "id": "41bd639c-11df-4ca1-9da7-6828a4afb07f",
   "metadata": {},
   "outputs": [
    {
     "data": {
      "image/png": "[encoded data removed]",
      "text/plain": [
       "<Figure size 1500x200 with 1 Axes>"
      ]
     },
     "metadata": {},
     "output_type": "display_data"
    }
   ],
   "source": [
    "plot_sample(x_train,y_train, 3 )"
   ]
  },
  {
   "cell_type": "raw",
   "id": "72d3a5a8-9730-4a4b-ba6e-d1d3481effa9",
   "metadata": {},
   "source": [
    "# scaling\n",
    "x_train = x_train/255\n",
    "x_test =x_test/255"
   ]
  },
  {
   "cell_type": "markdown",
   "id": "542f9753-c34d-4385-a616-a3742b101ebb",
   "metadata": {},
   "source": [
    "### ANN for image classification\n",
    "-------------------"
   ]
  },
  {
   "cell_type": "code",
   "execution_count": 109,
   "id": "0a223afb-5418-441a-acbe-753878d34007",
   "metadata": {},
   "outputs": [
    {
     "name": "stdout",
     "output_type": "stream",
     "text": [
      "Epoch 1/5\n",
      "16/16 [==============================] - 1s 20ms/step - loss: 13.3879 - accuracy: 0.1220\n",
      "Epoch 2/5\n",
      "16/16 [==============================] - 0s 17ms/step - loss: 14.0233 - accuracy: 0.1300\n",
      "Epoch 3/5\n",
      "16/16 [==============================] - 0s 17ms/step - loss: 14.0227 - accuracy: 0.1300\n",
      "Epoch 4/5\n",
      "16/16 [==============================] - 0s 18ms/step - loss: 14.0227 - accuracy: 0.1300\n",
      "Epoch 5/5\n",
      "16/16 [==============================] - 0s 17ms/step - loss: 14.0227 - accuracy: 0.1300\n"
     ]
    },
    {
     "data": {
      "text/plain": [
       "<keras.src.callbacks.History at 0x14d455e3a90>"
      ]
     },
     "execution_count": 109,
     "metadata": {},
     "output_type": "execute_result"
    }
   ],
   "source": [
    "ANN = models.Sequential([\n",
    "    layers.Flatten(input_shape = (32,32,3)),\n",
    "    layers.Dense(300, activation = 'relu'),\n",
    "    layers.Dense(100, activation = 'relu'),\n",
    "    layers.Dense(10, activation = 'relu'),\n",
    "])\n",
    "\n",
    "ANN.compile( optimizer = \"adam\",\n",
    "            loss = \"sparse_categorical_crossentropy\",\n",
    "            metrics = [\"accuracy\"]\n",
    ")\n",
    "\n",
    "ANN.fit(x_train[:500], y_train[:500], epochs = 5) "
   ]
  },
  {
   "cell_type": "code",
   "execution_count": 110,
   "id": "8b4d85b2-2817-4a97-a175-a71ad0d32fdf",
   "metadata": {},
   "outputs": [
    {
     "name": "stdout",
     "output_type": "stream",
     "text": [
      "313/313 [==============================] - 1s 2ms/step - loss: 14.5063 - accuracy: 0.1000\n"
     ]
    },
    {
     "data": {
      "text/plain": [
       "[14.506270408630371, 0.10000000149011612]"
      ]
     },
     "execution_count": 110,
     "metadata": {},
     "output_type": "execute_result"
    }
   ],
   "source": [
    "ANN.evaluate(x_test, y_test)"
   ]
  },
  {
   "cell_type": "markdown",
   "id": "b61f7bd3-1072-46f0-8524-c08d14fb7e96",
   "metadata": {},
   "source": [
    "### CNN for image classification\n",
    "____________________________________________"
   ]
  },
  {
   "cell_type": "code",
   "execution_count": 112,
   "id": "835c9117-a447-44d1-a7d7-19dd8deb87c8",
   "metadata": {},
   "outputs": [],
   "source": [
    "CNN = models.Sequential([\n",
    "    \n",
    "    layers.Conv2D(filters = 32, activation = 'relu', kernel_size = (3,3), input_shape=(32,32,3)),\n",
    "    layers.MaxPooling2D(2,2),\n",
    "\n",
    "    layers.Conv2D(filters = 64, activation = 'relu', kernel_size = (3,3)),\n",
    "    layers.MaxPooling2D(2,2),\n",
    "    \n",
    "    layers.Flatten(),\n",
    "    layers.Dense(64, activation = 'relu'),\n",
    "    layers.Dense(10, activation = 'softmax'), # this normalises the values\n",
    "])"
   ]
  },
  {
   "cell_type": "code",
   "execution_count": 113,
   "id": "49b134e2-3763-42b5-8965-bf7ad8f9502c",
   "metadata": {},
   "outputs": [],
   "source": [
    "CNN.compile( optimizer = \"adam\",\n",
    "             loss = \"sparse_categorical_crossentropy\",\n",
    "             metrics = [\"accuracy\"]\n",
    "           )\n"
   ]
  },
  {
   "cell_type": "code",
   "execution_count": 114,
   "id": "3659bf97-1041-4a57-b7d4-4bbaf3485042",
   "metadata": {},
   "outputs": [
    {
     "name": "stdout",
     "output_type": "stream",
     "text": [
      "Epoch 1/5\n",
      "313/313 [==============================] - 7s 20ms/step - loss: 1.8735 - accuracy: 0.3117\n",
      "Epoch 2/5\n",
      "313/313 [==============================] - 6s 18ms/step - loss: 1.4850 - accuracy: 0.4598\n",
      "Epoch 3/5\n",
      "313/313 [==============================] - 6s 19ms/step - loss: 1.3346 - accuracy: 0.5202\n",
      "Epoch 4/5\n",
      "313/313 [==============================] - 6s 18ms/step - loss: 1.2341 - accuracy: 0.5599\n",
      "Epoch 5/5\n",
      "313/313 [==============================] - 6s 19ms/step - loss: 1.1258 - accuracy: 0.6026\n"
     ]
    },
    {
     "data": {
      "text/plain": [
       "<keras.src.callbacks.History at 0x14d3fed9650>"
      ]
     },
     "execution_count": 114,
     "metadata": {},
     "output_type": "execute_result"
    }
   ],
   "source": [
    "CNN.fit(x_train[:10000],y_train[:10000], epochs= 5)"
   ]
  },
  {
   "cell_type": "code",
   "execution_count": 115,
   "id": "5446db5e-2510-4fe5-994e-05faa027924b",
   "metadata": {},
   "outputs": [
    {
     "name": "stdout",
     "output_type": "stream",
     "text": [
      "313/313 [==============================] - 2s 5ms/step - loss: 1.2716 - accuracy: 0.5499\n"
     ]
    },
    {
     "data": {
      "text/plain": [
       "[1.271606683731079, 0.5498999953269958]"
      ]
     },
     "execution_count": 115,
     "metadata": {},
     "output_type": "execute_result"
    }
   ],
   "source": [
    "CNN.evaluate(x_test,y_test)"
   ]
  },
  {
   "cell_type": "code",
   "execution_count": 122,
   "id": "471e2130-7ad7-4137-b05b-4040c45965a5",
   "metadata": {},
   "outputs": [
    {
     "name": "stdout",
     "output_type": "stream",
     "text": [
      "313/313 [==============================] - 2s 5ms/step\n"
     ]
    },
    {
     "data": {
      "text/plain": [
       "3"
      ]
     },
     "execution_count": 122,
     "metadata": {},
     "output_type": "execute_result"
    }
   ],
   "source": [
    "y_pred = CNN.predict(x_test)\n"
   ]
  },
  {
   "cell_type": "code",
   "execution_count": 127,
   "id": "0e7814f2-0036-4d69-970b-ed5cf40b5e95",
   "metadata": {},
   "outputs": [
    {
     "data": {
      "text/plain": [
       "('cat', 'cat')"
      ]
     },
     "execution_count": 127,
     "metadata": {},
     "output_type": "execute_result"
    }
   ],
   "source": [
    "classes[np.argmax(y_pred[0])], classes[y_test[0]]"
   ]
  },
  {
   "cell_type": "code",
   "execution_count": 133,
   "id": "208c9006-b989-4de1-bbcf-17557ee81f54",
   "metadata": {},
   "outputs": [
    {
     "data": {
      "text/plain": [
       "[3, 1, 8, 8, 6]"
      ]
     },
     "execution_count": 133,
     "metadata": {},
     "output_type": "execute_result"
    }
   ],
   "source": [
    "y_prediction = [np.argmax(element) for element in y_pred]\n",
    "y_prediction[:5]"
   ]
  },
  {
   "cell_type": "code",
   "execution_count": 135,
   "id": "75a0d5e9-4744-47f1-b98f-a8901f994e98",
   "metadata": {},
   "outputs": [
    {
     "name": "stdout",
     "output_type": "stream",
     "text": [
      "              precision    recall  f1-score   support\n",
      "\n",
      "           0       0.61      0.52      0.56      1000\n",
      "           1       0.59      0.78      0.67      1000\n",
      "           2       0.50      0.31      0.38      1000\n",
      "           3       0.40      0.38      0.39      1000\n",
      "           4       0.54      0.36      0.43      1000\n",
      "           5       0.57      0.35      0.44      1000\n",
      "           6       0.50      0.81      0.62      1000\n",
      "           7       0.67      0.63      0.65      1000\n",
      "           8       0.54      0.81      0.65      1000\n",
      "           9       0.59      0.55      0.57      1000\n",
      "\n",
      "    accuracy                           0.55     10000\n",
      "   macro avg       0.55      0.55      0.54     10000\n",
      "weighted avg       0.55      0.55      0.54     10000\n",
      "\n"
     ]
    }
   ],
   "source": [
    "from sklearn.metrics import confusion_matrix, classification_report \n",
    "print(classification_report(y_test, y_prediction))"
   ]
  },
  {
   "cell_type": "code",
   "execution_count": null,
   "id": "469ab90b-74af-403e-9d2b-27ab05f27ca1",
   "metadata": {},
   "outputs": [],
   "source": []
  }
 ],
 "metadata": {
  "kernelspec": {
   "display_name": "Python 3 (ipykernel)",
   "language": "python",
   "name": "python3"
  },
  "language_info": {
   "codemirror_mode": {
    "name": "ipython",
    "version": 3
   },
   "file_extension": ".py",
   "mimetype": "text/x-python",
   "name": "python",
   "nbconvert_exporter": "python",
   "pygments_lexer": "ipython3",
   "version": "3.11.5"
  }
 },
 "nbformat": 4,
 "nbformat_minor": 5
}
